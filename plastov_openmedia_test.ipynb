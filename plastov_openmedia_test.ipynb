{
 "cells": [
  {
   "cell_type": "markdown",
   "metadata": {},
   "source": [
    "shape=(num_cshape=(num_channels,num_samples), dtype=float32, order=“F”."
   ]
  },
  {
   "cell_type": "code",
   "execution_count": 19,
   "metadata": {},
   "outputs": [],
   "source": [
    "import numpy as np\n",
    "import mcsaugment as ma"
   ]
  },
  {
   "cell_type": "markdown",
   "metadata": {},
   "source": [
    "## Функции для создания тестовых данных"
   ]
  },
  {
   "cell_type": "code",
   "execution_count": 20,
   "metadata": {},
   "outputs": [],
   "source": [
    "fs = 44100\n",
    "t = 5\n",
    "f_list = [400, 1000, 2333, 3700]\n",
    "test_sound_1 = ma.mcs_generate(f_list, t, fs)"
   ]
  },
  {
   "cell_type": "code",
   "execution_count": 21,
   "metadata": {},
   "outputs": [
    {
     "data": {
      "text/plain": [
       "(4, 220500)"
      ]
     },
     "execution_count": 21,
     "metadata": {},
     "output_type": "execute_result"
    }
   ],
   "source": [
    "test_sound_1.shape"
   ]
  },
  {
   "cell_type": "code",
   "execution_count": 22,
   "metadata": {},
   "outputs": [
    {
     "data": {
      "text/plain": [
       "array([[ 0.        ,  0.0569595 ,  0.11373404, ..., -0.1701393 ,\n",
       "        -0.11373404, -0.0569595 ],\n",
       "       [ 0.        ,  0.14199431,  0.28111112, ..., -0.41453117,\n",
       "        -0.28111112, -0.14199431],\n",
       "       [ 0.        ,  0.32630897,  0.61689574, ..., -0.8399486 ,\n",
       "        -0.61689574, -0.32630897],\n",
       "       [ 0.        ,  0.5030815 ,  0.8695653 , ..., -0.9999429 ,\n",
       "        -0.8695653 , -0.5030815 ]], dtype=float32)"
      ]
     },
     "metadata": {},
     "output_type": "display_data"
    }
   ],
   "source": [
    "display(test_sound_1)"
   ]
  },
  {
   "cell_type": "code",
   "execution_count": 23,
   "metadata": {},
   "outputs": [],
   "source": [
    "ma.mcs_write(\"./test_sounds/test_sound_1.wav\", test_sound_1, fs)"
   ]
  },
  {
   "cell_type": "code",
   "execution_count": 24,
   "metadata": {},
   "outputs": [
    {
     "name": "stdout",
     "output_type": "stream",
     "text": [
      "44100\n",
      "(4, 220500)\n"
     ]
    },
    {
     "data": {
      "text/plain": [
       "array([[ 0.        ,  0.0569595 ,  0.11373404, ..., -0.1701393 ,\n",
       "        -0.11373404, -0.0569595 ],\n",
       "       [ 0.        ,  0.14199431,  0.28111112, ..., -0.41453117,\n",
       "        -0.28111112, -0.14199431],\n",
       "       [ 0.        ,  0.32630897,  0.61689574, ..., -0.8399486 ,\n",
       "        -0.61689574, -0.32630897],\n",
       "       [ 0.        ,  0.5030815 ,  0.8695653 , ..., -0.9999429 ,\n",
       "        -0.8695653 , -0.5030815 ]], dtype=float32)"
      ]
     },
     "metadata": {},
     "output_type": "display_data"
    }
   ],
   "source": [
    "\n",
    "test_rs, test_mcs = ma.mcs_read(\"./test_sounds/test_sound_1.wav\")\n",
    "print(test_rs)\n",
    "print(test_mcs.shape)\n",
    "display(test_mcs)"
   ]
  },
  {
   "cell_type": "code",
   "execution_count": 25,
   "metadata": {},
   "outputs": [
    {
     "name": "stdout",
     "output_type": "stream",
     "text": [
      "Equal\n"
     ]
    }
   ],
   "source": [
    "if np.array_equal(test_mcs, test_sound_1):\n",
    "    print(\"Equal\")\n",
    "else:\n",
    "    print(\"Not Equal\")"
   ]
  },
  {
   "cell_type": "code",
   "execution_count": 26,
   "metadata": {},
   "outputs": [
    {
     "data": {
      "text/plain": [
       "{'path': './test_sounds/test_sound_1.wav',\n",
       " 'channels_count': 4,\n",
       " 'sample_rate': 44100,\n",
       " 'length_s': 5.0}"
      ]
     },
     "metadata": {},
     "output_type": "display_data"
    }
   ],
   "source": [
    "info = ma.mcs_file_info(\"./test_sounds/test_sound_1.wav\")\n",
    "display(info)"
   ]
  },
  {
   "cell_type": "markdown",
   "metadata": {},
   "source": [
    "## Функции аугментации речевого сигнала"
   ]
  },
  {
   "cell_type": "markdown",
   "metadata": {},
   "source": [
    "1. Амплитуда (изменение громкости)\n",
    "2. Фазовый сдвиг\n",
    "3. Эхо\n",
    "4. Инверсия делается как амплитуда со знаком минус.\n",
    "5. Добавление шума\n",
    "6. Растяжение во времени\n",
    "8.  Изменение темпа\n",
    "9.  Сдвиг высоты тона\n",
    "10. Добавление фонового шума\n",
    "11. Добавление тишины\n",
    "12  Частотное  маскирование\n",
    "13. Временное маскирование\n",
    "14. Комбинации этих методов"
   ]
  },
  {
   "cell_type": "code",
   "execution_count": 27,
   "metadata": {},
   "outputs": [],
   "source": [
    "amplitude_list = [0.1, 0.2, 0.3, 0.4]\n",
    "ac = ma.mcs_amplitude_control(test_sound_1, amplitude_list)\n",
    "ma.mcs_write(\"./test_sounds/test_sound_1_ac.wav\",  ac, fs)"
   ]
  },
  {
   "cell_type": "code",
   "execution_count": 28,
   "metadata": {},
   "outputs": [
    {
     "name": "stdout",
     "output_type": "stream",
     "text": [
      "Equal\n",
      "Equal\n",
      "Equal\n",
      "Equal\n"
     ]
    }
   ],
   "source": [
    "for a, t, coef in zip(ac, test_sound_1, amplitude_list):\n",
    "     if np.array_equal(a, t*coef):\n",
    "           print(\"Equal\")\n",
    "     else:\n",
    "          print(\"Not Equal\")"
   ]
  },
  {
   "cell_type": "code",
   "execution_count": 29,
   "metadata": {},
   "outputs": [],
   "source": [
    "delay_list = [100, 200, 300, 0]\n",
    "dc = ma.mcs_delay_control(test_sound_1, delay_list)\n",
    "ma.mcs_write(\"./test_sounds/test_sound_1_delay.wav\", dc, fs)"
   ]
  },
  {
   "cell_type": "code",
   "execution_count": 30,
   "metadata": {},
   "outputs": [
    {
     "name": "stdout",
     "output_type": "stream",
     "text": [
      "Equal\n",
      "Equal\n",
      "Equal\n",
      "Equal\n"
     ]
    }
   ],
   "source": [
    "for ch  in dc:\n",
    "     if ch.shape[0] == 220513:\n",
    "           print(\"Equal\")\n",
    "     else:\n",
    "          print(\"Not Equal\")"
   ]
  },
  {
   "cell_type": "code",
   "execution_count": 31,
   "metadata": {},
   "outputs": [],
   "source": [
    "ec = ma.mcs_echo_control(test_sound_1, [1E6, 2E6, 3E6, 0], [-0.3, -0.4, -0.5, 0], fs)\n",
    "ma.mcs_write(\"./test_sounds/test_sound_1_echo.wav\", ec, fs)"
   ]
  },
  {
   "cell_type": "code",
   "execution_count": 32,
   "metadata": {},
   "outputs": [],
   "source": [
    "nc = ma.mcs_noise_control(test_sound_1, [0.01, 0.02, 0.03, 0], fs)\n",
    "ma.mcs_write(\"./test_sounds/test_sound_1_noise.wav\", nc, fs)"
   ]
  }
 ],
 "metadata": {
  "kernelspec": {
   "display_name": "cuda_p3_9",
   "language": "python",
   "name": "python3"
  },
  "language_info": {
   "codemirror_mode": {
    "name": "ipython",
    "version": 3
   },
   "file_extension": ".py",
   "mimetype": "text/x-python",
   "name": "python",
   "nbconvert_exporter": "python",
   "pygments_lexer": "ipython3",
   "version": "3.9.18"
  }
 },
 "nbformat": 4,
 "nbformat_minor": 2
}
